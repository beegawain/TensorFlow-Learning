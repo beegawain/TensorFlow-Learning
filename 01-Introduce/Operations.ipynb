{
 "cells": [
  {
   "cell_type": "code",
   "execution_count": 1,
   "metadata": {},
   "outputs": [],
   "source": [
    "import matplotlib.pyplot as plt\n",
    "import numpy as np\n",
    "import tensorflow as tf\n",
    "from tensorflow.python.framework import ops\n",
    "ops.reset_default_graph()"
   ]
  },
  {
   "cell_type": "code",
   "execution_count": 2,
   "metadata": {},
   "outputs": [],
   "source": [
    "sess = tf.Session()"
   ]
  },
  {
   "cell_type": "markdown",
   "metadata": {},
   "source": [
    "# Arithmetic Operations"
   ]
  },
  {
   "cell_type": "markdown",
   "metadata": {},
   "source": [
    "TensorFlow has multiple types of arithmetic functions. Here we illustrate the differences between div(), truediv() and floordiv().\n",
    "\n",
    "div() : integer of division (similar to base python //取整\n",
    "\n",
    "truediv() : will convert integer to floats.//实际结果\n",
    "\n",
    "floordiv() : float of div() //float 取整"
   ]
  },
  {
   "cell_type": "code",
   "execution_count": 3,
   "metadata": {},
   "outputs": [
    {
     "name": "stdout",
     "output_type": "stream",
     "text": [
      "0\n",
      "0.75\n",
      "0.0\n"
     ]
    }
   ],
   "source": [
    "print(sess.run(tf.div(3,4)))\n",
    "print(sess.run(tf.truediv(3,4)))\n",
    "print(sess.run(tf.floordiv(3.0,4.0)))"
   ]
  },
  {
   "cell_type": "code",
   "execution_count": 4,
   "metadata": {},
   "outputs": [
    {
     "name": "stdout",
     "output_type": "stream",
     "text": [
      "2.0\n",
      "[0. 0. 1.]\n"
     ]
    }
   ],
   "source": [
    "print(sess.run(tf.mod(22.0,5.0)))\n",
    "\n",
    "print(sess.run(tf.cross([1.,0.,0.],[0.,1.,0.])))"
   ]
  },
  {
   "cell_type": "markdown",
   "metadata": {},
   "source": [
    "# Trig functions"
   ]
  },
  {
   "cell_type": "code",
   "execution_count": 5,
   "metadata": {},
   "outputs": [
    {
     "name": "stdout",
     "output_type": "stream",
     "text": [
      "-7.2399803e-06\n",
      "-1.0\n",
      "1.0000036\n"
     ]
    }
   ],
   "source": [
    "print(sess.run(tf.sin(3.1416)))\n",
    "print(sess.run(tf.cos(3.1416)))\n",
    "print(sess.run(tf.div(tf.sin(3.1416/4.), tf.cos(3.1416/4.))))"
   ]
  },
  {
   "cell_type": "markdown",
   "metadata": {},
   "source": [
    "# Custom operations"
   ]
  },
  {
   "cell_type": "markdown",
   "metadata": {},
   "source": [
    "example:f(x) = 3 * x^2 - x + 10"
   ]
  },
  {
   "cell_type": "code",
   "execution_count": 6,
   "metadata": {},
   "outputs": [
    {
     "data": {
      "text/plain": [
       "362"
      ]
     },
     "execution_count": 6,
     "metadata": {},
     "output_type": "execute_result"
    }
   ],
   "source": [
    "def custom_polynomial(x):\n",
    "    # Return 3x^2 - x + 10\n",
    "    return(tf.subtract(3 * tf.square(x),x) + 10)\n",
    "sess.run(custom_polynomial(11))"
   ]
  },
  {
   "cell_type": "code",
   "execution_count": 9,
   "metadata": {},
   "outputs": [
    {
     "name": "stdout",
     "output_type": "stream",
     "text": [
      "[10, 12, 20, 34, 54, 80, 112, 150, 194, 244]\n"
     ]
    }
   ],
   "source": [
    "test_nums = range(10)\n",
    "expected_output = [3*x*x-x+10 for x in test_nums]\n",
    "print(expected_output)"
   ]
  },
  {
   "cell_type": "markdown",
   "metadata": {},
   "source": [
    "TensorFlow custom function output:"
   ]
  },
  {
   "cell_type": "code",
   "execution_count": 14,
   "metadata": {},
   "outputs": [
    {
     "name": "stdout",
     "output_type": "stream",
     "text": [
      "10\n",
      "12\n",
      "20\n",
      "34\n",
      "54\n",
      "80\n",
      "112\n",
      "150\n",
      "194\n",
      "244\n"
     ]
    }
   ],
   "source": [
    "for i in test_nums:\n",
    "    print(sess.run(custom_polynomial(i)))"
   ]
  },
  {
   "cell_type": "code",
   "execution_count": null,
   "metadata": {},
   "outputs": [],
   "source": []
  }
 ],
 "metadata": {
  "kernelspec": {
   "display_name": "Python 3",
   "language": "python",
   "name": "python3"
  },
  "language_info": {
   "codemirror_mode": {
    "name": "ipython",
    "version": 3
   },
   "file_extension": ".py",
   "mimetype": "text/x-python",
   "name": "python",
   "nbconvert_exporter": "python",
   "pygments_lexer": "ipython3",
   "version": "3.6.9"
  }
 },
 "nbformat": 4,
 "nbformat_minor": 2
}

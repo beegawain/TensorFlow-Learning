{
 "cells": [
  {
   "cell_type": "code",
   "execution_count": 1,
   "metadata": {},
   "outputs": [],
   "source": [
    "import numpy as np\n",
    "import tensorflow as tf\n",
    "from tensorflow.python.framework import ops\n",
    "ops.reset_default_graph()"
   ]
  },
  {
   "cell_type": "code",
   "execution_count": 2,
   "metadata": {},
   "outputs": [],
   "source": [
    "sess = tf.Session()"
   ]
  },
  {
   "cell_type": "code",
   "execution_count": 6,
   "metadata": {},
   "outputs": [],
   "source": [
    "x = tf.placeholder(tf.float32,shape=(4,4))"
   ]
  },
  {
   "cell_type": "code",
   "execution_count": 7,
   "metadata": {},
   "outputs": [
    {
     "name": "stdout",
     "output_type": "stream",
     "text": [
      "[[0.41495532 0.7726984  0.44833097 0.8912532 ]\n",
      " [0.8719094  0.18361713 0.2673959  0.7930654 ]\n",
      " [0.7420156  0.5327311  0.9975677  0.78470725]\n",
      " [0.36967537 0.00542738 0.32081184 0.21778241]]\n"
     ]
    }
   ],
   "source": [
    "# Input data to placeholder, note that 'rand_array' and 'x' are the same shape.\n",
    "rand_array = np.random.rand(4, 4)\n",
    "\n",
    "# Create a Tensor to perform an operation (here, y will be equal to x, a 4x4 matrix)\n",
    "y = tf.identity(x)\n",
    "\n",
    "# Print the output, feeding the value of x into the computational graph\n",
    "print(sess.run(y, feed_dict={x: rand_array}))"
   ]
  },
  {
   "cell_type": "code",
   "execution_count": null,
   "metadata": {},
   "outputs": [],
   "source": []
  }
 ],
 "metadata": {
  "kernelspec": {
   "display_name": "Python 3",
   "language": "python",
   "name": "python3"
  },
  "language_info": {
   "codemirror_mode": {
    "name": "ipython",
    "version": 3
   },
   "file_extension": ".py",
   "mimetype": "text/x-python",
   "name": "python",
   "nbconvert_exporter": "python",
   "pygments_lexer": "ipython3",
   "version": "3.6.9"
  }
 },
 "nbformat": 4,
 "nbformat_minor": 2
}
